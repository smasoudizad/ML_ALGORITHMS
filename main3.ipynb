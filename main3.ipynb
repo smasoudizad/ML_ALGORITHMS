{
 "cells": [
  {
   "cell_type": "code",
   "execution_count": 159,
   "metadata": {},
   "outputs": [],
   "source": [
    "import pandas as pd\n",
    "from sklearn.model_selection import train_test_split, cross_val_score\n",
    "from sklearn.pipeline import Pipeline\n",
    "from sklearn.preprocessing import StandardScaler, LabelEncoder\n",
    "from sklearn.compose import ColumnTransformer\n",
    "from imblearn.over_sampling import SMOTE\n",
    "from sklearn.metrics import classification_report\n",
    "from imblearn.pipeline import Pipeline as imbPipeline\n",
    "from sklearn.linear_model import LogisticRegression\n",
    "import numpy as np\n",
    "import seaborn as sns\n",
    "from matplotlib import pyplot as plt"
   ]
  },
  {
   "cell_type": "code",
   "execution_count": 78,
   "metadata": {},
   "outputs": [],
   "source": [
    "# configuration to see all columns\n",
    "pd.set_option('display.max_columns', None)"
   ]
  },
  {
   "cell_type": "code",
   "execution_count": 79,
   "metadata": {},
   "outputs": [],
   "source": [
    "# Reading data\n",
    "data = pd.read_csv('NF-CSE-CIC-IDS2018-v2.csv')"
   ]
  },
  {
   "cell_type": "code",
   "execution_count": 80,
   "metadata": {},
   "outputs": [
    {
     "data": {
      "text/html": [
       "<div>\n",
       "<style scoped>\n",
       "    .dataframe tbody tr th:only-of-type {\n",
       "        vertical-align: middle;\n",
       "    }\n",
       "\n",
       "    .dataframe tbody tr th {\n",
       "        vertical-align: top;\n",
       "    }\n",
       "\n",
       "    .dataframe thead th {\n",
       "        text-align: right;\n",
       "    }\n",
       "</style>\n",
       "<table border=\"1\" class=\"dataframe\">\n",
       "  <thead>\n",
       "    <tr style=\"text-align: right;\">\n",
       "      <th></th>\n",
       "      <th>IPV4_SRC_ADDR</th>\n",
       "      <th>L4_SRC_PORT</th>\n",
       "      <th>IPV4_DST_ADDR</th>\n",
       "      <th>L4_DST_PORT</th>\n",
       "      <th>PROTOCOL</th>\n",
       "      <th>L7_PROTO</th>\n",
       "      <th>IN_BYTES</th>\n",
       "      <th>IN_PKTS</th>\n",
       "      <th>OUT_BYTES</th>\n",
       "      <th>OUT_PKTS</th>\n",
       "      <th>TCP_FLAGS</th>\n",
       "      <th>CLIENT_TCP_FLAGS</th>\n",
       "      <th>SERVER_TCP_FLAGS</th>\n",
       "      <th>FLOW_DURATION_MILLISECONDS</th>\n",
       "      <th>DURATION_IN</th>\n",
       "      <th>DURATION_OUT</th>\n",
       "      <th>MIN_TTL</th>\n",
       "      <th>MAX_TTL</th>\n",
       "      <th>LONGEST_FLOW_PKT</th>\n",
       "      <th>SHORTEST_FLOW_PKT</th>\n",
       "      <th>MIN_IP_PKT_LEN</th>\n",
       "      <th>MAX_IP_PKT_LEN</th>\n",
       "      <th>SRC_TO_DST_SECOND_BYTES</th>\n",
       "      <th>DST_TO_SRC_SECOND_BYTES</th>\n",
       "      <th>RETRANSMITTED_IN_BYTES</th>\n",
       "      <th>RETRANSMITTED_IN_PKTS</th>\n",
       "      <th>RETRANSMITTED_OUT_BYTES</th>\n",
       "      <th>RETRANSMITTED_OUT_PKTS</th>\n",
       "      <th>SRC_TO_DST_AVG_THROUGHPUT</th>\n",
       "      <th>DST_TO_SRC_AVG_THROUGHPUT</th>\n",
       "      <th>NUM_PKTS_UP_TO_128_BYTES</th>\n",
       "      <th>NUM_PKTS_128_TO_256_BYTES</th>\n",
       "      <th>NUM_PKTS_256_TO_512_BYTES</th>\n",
       "      <th>NUM_PKTS_512_TO_1024_BYTES</th>\n",
       "      <th>NUM_PKTS_1024_TO_1514_BYTES</th>\n",
       "      <th>TCP_WIN_MAX_IN</th>\n",
       "      <th>TCP_WIN_MAX_OUT</th>\n",
       "      <th>ICMP_TYPE</th>\n",
       "      <th>ICMP_IPV4_TYPE</th>\n",
       "      <th>DNS_QUERY_ID</th>\n",
       "      <th>DNS_QUERY_TYPE</th>\n",
       "      <th>DNS_TTL_ANSWER</th>\n",
       "      <th>FTP_COMMAND_RET_CODE</th>\n",
       "      <th>Label</th>\n",
       "      <th>Attack</th>\n",
       "    </tr>\n",
       "  </thead>\n",
       "  <tbody>\n",
       "    <tr>\n",
       "      <th>0</th>\n",
       "      <td>13.58.98.64</td>\n",
       "      <td>40894</td>\n",
       "      <td>172.31.69.25</td>\n",
       "      <td>22</td>\n",
       "      <td>6</td>\n",
       "      <td>92.0</td>\n",
       "      <td>3164</td>\n",
       "      <td>23</td>\n",
       "      <td>3765</td>\n",
       "      <td>21</td>\n",
       "      <td>27</td>\n",
       "      <td>27</td>\n",
       "      <td>27</td>\n",
       "      <td>0</td>\n",
       "      <td>0</td>\n",
       "      <td>0</td>\n",
       "      <td>63</td>\n",
       "      <td>63</td>\n",
       "      <td>1028</td>\n",
       "      <td>52</td>\n",
       "      <td>52</td>\n",
       "      <td>1028</td>\n",
       "      <td>3164.0</td>\n",
       "      <td>3765.0</td>\n",
       "      <td>0</td>\n",
       "      <td>0</td>\n",
       "      <td>0</td>\n",
       "      <td>0</td>\n",
       "      <td>25312000</td>\n",
       "      <td>30120000</td>\n",
       "      <td>33</td>\n",
       "      <td>7</td>\n",
       "      <td>1</td>\n",
       "      <td>2</td>\n",
       "      <td>1</td>\n",
       "      <td>26883</td>\n",
       "      <td>26847</td>\n",
       "      <td>0</td>\n",
       "      <td>0</td>\n",
       "      <td>0</td>\n",
       "      <td>0</td>\n",
       "      <td>0</td>\n",
       "      <td>0</td>\n",
       "      <td>1</td>\n",
       "      <td>SSH-Bruteforce</td>\n",
       "    </tr>\n",
       "    <tr>\n",
       "      <th>1</th>\n",
       "      <td>213.202.230.143</td>\n",
       "      <td>29622</td>\n",
       "      <td>172.31.66.103</td>\n",
       "      <td>3389</td>\n",
       "      <td>6</td>\n",
       "      <td>0.0</td>\n",
       "      <td>1919</td>\n",
       "      <td>14</td>\n",
       "      <td>2031</td>\n",
       "      <td>11</td>\n",
       "      <td>223</td>\n",
       "      <td>219</td>\n",
       "      <td>30</td>\n",
       "      <td>0</td>\n",
       "      <td>0</td>\n",
       "      <td>0</td>\n",
       "      <td>101</td>\n",
       "      <td>101</td>\n",
       "      <td>1195</td>\n",
       "      <td>40</td>\n",
       "      <td>40</td>\n",
       "      <td>1195</td>\n",
       "      <td>1919.0</td>\n",
       "      <td>2031.0</td>\n",
       "      <td>0</td>\n",
       "      <td>0</td>\n",
       "      <td>0</td>\n",
       "      <td>0</td>\n",
       "      <td>15352000</td>\n",
       "      <td>16248000</td>\n",
       "      <td>17</td>\n",
       "      <td>6</td>\n",
       "      <td>0</td>\n",
       "      <td>1</td>\n",
       "      <td>1</td>\n",
       "      <td>8192</td>\n",
       "      <td>64000</td>\n",
       "      <td>0</td>\n",
       "      <td>0</td>\n",
       "      <td>0</td>\n",
       "      <td>0</td>\n",
       "      <td>0</td>\n",
       "      <td>0</td>\n",
       "      <td>0</td>\n",
       "      <td>Benign</td>\n",
       "    </tr>\n",
       "    <tr>\n",
       "      <th>2</th>\n",
       "      <td>172.31.66.5</td>\n",
       "      <td>65456</td>\n",
       "      <td>172.31.0.2</td>\n",
       "      <td>53</td>\n",
       "      <td>17</td>\n",
       "      <td>0.0</td>\n",
       "      <td>116</td>\n",
       "      <td>2</td>\n",
       "      <td>148</td>\n",
       "      <td>2</td>\n",
       "      <td>0</td>\n",
       "      <td>0</td>\n",
       "      <td>0</td>\n",
       "      <td>0</td>\n",
       "      <td>0</td>\n",
       "      <td>0</td>\n",
       "      <td>128</td>\n",
       "      <td>128</td>\n",
       "      <td>74</td>\n",
       "      <td>58</td>\n",
       "      <td>58</td>\n",
       "      <td>74</td>\n",
       "      <td>116.0</td>\n",
       "      <td>148.0</td>\n",
       "      <td>0</td>\n",
       "      <td>0</td>\n",
       "      <td>0</td>\n",
       "      <td>0</td>\n",
       "      <td>928000</td>\n",
       "      <td>1184000</td>\n",
       "      <td>4</td>\n",
       "      <td>0</td>\n",
       "      <td>0</td>\n",
       "      <td>0</td>\n",
       "      <td>0</td>\n",
       "      <td>0</td>\n",
       "      <td>0</td>\n",
       "      <td>0</td>\n",
       "      <td>0</td>\n",
       "      <td>2511</td>\n",
       "      <td>1</td>\n",
       "      <td>5</td>\n",
       "      <td>0</td>\n",
       "      <td>0</td>\n",
       "      <td>Benign</td>\n",
       "    </tr>\n",
       "    <tr>\n",
       "      <th>3</th>\n",
       "      <td>172.31.64.92</td>\n",
       "      <td>57918</td>\n",
       "      <td>172.31.0.2</td>\n",
       "      <td>53</td>\n",
       "      <td>17</td>\n",
       "      <td>0.0</td>\n",
       "      <td>70</td>\n",
       "      <td>1</td>\n",
       "      <td>130</td>\n",
       "      <td>1</td>\n",
       "      <td>0</td>\n",
       "      <td>0</td>\n",
       "      <td>0</td>\n",
       "      <td>0</td>\n",
       "      <td>0</td>\n",
       "      <td>0</td>\n",
       "      <td>0</td>\n",
       "      <td>0</td>\n",
       "      <td>130</td>\n",
       "      <td>70</td>\n",
       "      <td>70</td>\n",
       "      <td>130</td>\n",
       "      <td>70.0</td>\n",
       "      <td>130.0</td>\n",
       "      <td>0</td>\n",
       "      <td>0</td>\n",
       "      <td>0</td>\n",
       "      <td>0</td>\n",
       "      <td>560000</td>\n",
       "      <td>1040000</td>\n",
       "      <td>1</td>\n",
       "      <td>1</td>\n",
       "      <td>0</td>\n",
       "      <td>0</td>\n",
       "      <td>0</td>\n",
       "      <td>0</td>\n",
       "      <td>0</td>\n",
       "      <td>0</td>\n",
       "      <td>0</td>\n",
       "      <td>3371</td>\n",
       "      <td>1</td>\n",
       "      <td>60</td>\n",
       "      <td>0</td>\n",
       "      <td>0</td>\n",
       "      <td>Benign</td>\n",
       "    </tr>\n",
       "    <tr>\n",
       "      <th>4</th>\n",
       "      <td>18.219.32.43</td>\n",
       "      <td>63269</td>\n",
       "      <td>172.31.69.25</td>\n",
       "      <td>80</td>\n",
       "      <td>6</td>\n",
       "      <td>7.0</td>\n",
       "      <td>232</td>\n",
       "      <td>5</td>\n",
       "      <td>1136</td>\n",
       "      <td>4</td>\n",
       "      <td>223</td>\n",
       "      <td>222</td>\n",
       "      <td>27</td>\n",
       "      <td>4294827</td>\n",
       "      <td>140</td>\n",
       "      <td>0</td>\n",
       "      <td>127</td>\n",
       "      <td>127</td>\n",
       "      <td>1004</td>\n",
       "      <td>40</td>\n",
       "      <td>40</td>\n",
       "      <td>1004</td>\n",
       "      <td>232.0</td>\n",
       "      <td>1136.0</td>\n",
       "      <td>0</td>\n",
       "      <td>0</td>\n",
       "      <td>0</td>\n",
       "      <td>0</td>\n",
       "      <td>8000</td>\n",
       "      <td>9088000</td>\n",
       "      <td>8</td>\n",
       "      <td>0</td>\n",
       "      <td>0</td>\n",
       "      <td>1</td>\n",
       "      <td>0</td>\n",
       "      <td>8192</td>\n",
       "      <td>26883</td>\n",
       "      <td>0</td>\n",
       "      <td>0</td>\n",
       "      <td>0</td>\n",
       "      <td>0</td>\n",
       "      <td>0</td>\n",
       "      <td>0</td>\n",
       "      <td>1</td>\n",
       "      <td>DDoS attacks-LOIC-HTTP</td>\n",
       "    </tr>\n",
       "  </tbody>\n",
       "</table>\n",
       "</div>"
      ],
      "text/plain": [
       "     IPV4_SRC_ADDR  L4_SRC_PORT  IPV4_DST_ADDR  L4_DST_PORT  PROTOCOL  \\\n",
       "0      13.58.98.64        40894   172.31.69.25           22         6   \n",
       "1  213.202.230.143        29622  172.31.66.103         3389         6   \n",
       "2      172.31.66.5        65456     172.31.0.2           53        17   \n",
       "3     172.31.64.92        57918     172.31.0.2           53        17   \n",
       "4     18.219.32.43        63269   172.31.69.25           80         6   \n",
       "\n",
       "   L7_PROTO  IN_BYTES  IN_PKTS  OUT_BYTES  OUT_PKTS  TCP_FLAGS  \\\n",
       "0      92.0      3164       23       3765        21         27   \n",
       "1       0.0      1919       14       2031        11        223   \n",
       "2       0.0       116        2        148         2          0   \n",
       "3       0.0        70        1        130         1          0   \n",
       "4       7.0       232        5       1136         4        223   \n",
       "\n",
       "   CLIENT_TCP_FLAGS  SERVER_TCP_FLAGS  FLOW_DURATION_MILLISECONDS  \\\n",
       "0                27                27                           0   \n",
       "1               219                30                           0   \n",
       "2                 0                 0                           0   \n",
       "3                 0                 0                           0   \n",
       "4               222                27                     4294827   \n",
       "\n",
       "   DURATION_IN  DURATION_OUT  MIN_TTL  MAX_TTL  LONGEST_FLOW_PKT  \\\n",
       "0            0             0       63       63              1028   \n",
       "1            0             0      101      101              1195   \n",
       "2            0             0      128      128                74   \n",
       "3            0             0        0        0               130   \n",
       "4          140             0      127      127              1004   \n",
       "\n",
       "   SHORTEST_FLOW_PKT  MIN_IP_PKT_LEN  MAX_IP_PKT_LEN  SRC_TO_DST_SECOND_BYTES  \\\n",
       "0                 52              52            1028                   3164.0   \n",
       "1                 40              40            1195                   1919.0   \n",
       "2                 58              58              74                    116.0   \n",
       "3                 70              70             130                     70.0   \n",
       "4                 40              40            1004                    232.0   \n",
       "\n",
       "   DST_TO_SRC_SECOND_BYTES  RETRANSMITTED_IN_BYTES  RETRANSMITTED_IN_PKTS  \\\n",
       "0                   3765.0                       0                      0   \n",
       "1                   2031.0                       0                      0   \n",
       "2                    148.0                       0                      0   \n",
       "3                    130.0                       0                      0   \n",
       "4                   1136.0                       0                      0   \n",
       "\n",
       "   RETRANSMITTED_OUT_BYTES  RETRANSMITTED_OUT_PKTS  SRC_TO_DST_AVG_THROUGHPUT  \\\n",
       "0                        0                       0                   25312000   \n",
       "1                        0                       0                   15352000   \n",
       "2                        0                       0                     928000   \n",
       "3                        0                       0                     560000   \n",
       "4                        0                       0                       8000   \n",
       "\n",
       "   DST_TO_SRC_AVG_THROUGHPUT  NUM_PKTS_UP_TO_128_BYTES  \\\n",
       "0                   30120000                        33   \n",
       "1                   16248000                        17   \n",
       "2                    1184000                         4   \n",
       "3                    1040000                         1   \n",
       "4                    9088000                         8   \n",
       "\n",
       "   NUM_PKTS_128_TO_256_BYTES  NUM_PKTS_256_TO_512_BYTES  \\\n",
       "0                          7                          1   \n",
       "1                          6                          0   \n",
       "2                          0                          0   \n",
       "3                          1                          0   \n",
       "4                          0                          0   \n",
       "\n",
       "   NUM_PKTS_512_TO_1024_BYTES  NUM_PKTS_1024_TO_1514_BYTES  TCP_WIN_MAX_IN  \\\n",
       "0                           2                            1           26883   \n",
       "1                           1                            1            8192   \n",
       "2                           0                            0               0   \n",
       "3                           0                            0               0   \n",
       "4                           1                            0            8192   \n",
       "\n",
       "   TCP_WIN_MAX_OUT  ICMP_TYPE  ICMP_IPV4_TYPE  DNS_QUERY_ID  DNS_QUERY_TYPE  \\\n",
       "0            26847          0               0             0               0   \n",
       "1            64000          0               0             0               0   \n",
       "2                0          0               0          2511               1   \n",
       "3                0          0               0          3371               1   \n",
       "4            26883          0               0             0               0   \n",
       "\n",
       "   DNS_TTL_ANSWER  FTP_COMMAND_RET_CODE  Label                  Attack  \n",
       "0               0                     0      1          SSH-Bruteforce  \n",
       "1               0                     0      0                  Benign  \n",
       "2               5                     0      0                  Benign  \n",
       "3              60                     0      0                  Benign  \n",
       "4               0                     0      1  DDoS attacks-LOIC-HTTP  "
      ]
     },
     "execution_count": 80,
     "metadata": {},
     "output_type": "execute_result"
    }
   ],
   "source": [
    "#quick analyze\n",
    "data.head()"
   ]
  },
  {
   "cell_type": "code",
   "execution_count": 81,
   "metadata": {},
   "outputs": [],
   "source": [
    "data = data.drop(columns=['FTP_COMMAND_RET_CODE'])"
   ]
  },
  {
   "cell_type": "code",
   "execution_count": 82,
   "metadata": {},
   "outputs": [],
   "source": [
    "#Can be removed\n",
    "data = data[data.index % 40 == 0]"
   ]
  },
  {
   "cell_type": "code",
   "execution_count": 83,
   "metadata": {},
   "outputs": [],
   "source": [
    "# Categorize labels by their damage\n",
    "low = ['Benign', 'Brute Force -Web']\n",
    "moderate = ['SSH-Bruteforce', 'FTP-BruteForce', 'Brute Force -XSS']\n",
    "high = ['SQL Injection', 'DNS-TTL-ANSWER', 'DoS attacks-Slowloris']\n",
    "severe = ['DDoS attacks-LOIC-HTTP', 'DDOS attack-HOIC', 'DoS attacks-Hulk', 'DDos attack-LOIC-UDP']\n",
    "critical = ['DoS attacks-GoldenEye', 'DoS attacks-SlowHTTPTest', 'Infilteration', 'Bot']"
   ]
  },
  {
   "cell_type": "code",
   "execution_count": 84,
   "metadata": {},
   "outputs": [],
   "source": [
    "# Create a mapper\n",
    "mapper = {\n",
    "    **dict(zip(low, ['low'] * len(low))),\n",
    "    **dict(zip(moderate, ['moderate'] * len(moderate))),\n",
    "    **dict(zip(high, ['high'] * len(high))),\n",
    "    **dict(zip(severe, ['severe'] * len(severe))),\n",
    "    **dict(zip(critical, ['critical'] * len(critical)))\n",
    "}"
   ]
  },
  {
   "cell_type": "code",
   "execution_count": 85,
   "metadata": {},
   "outputs": [],
   "source": [
    "# Rename labels\n",
    "data['Attack'] = data['Attack'].replace(to_replace=mapper)"
   ]
  },
  {
   "cell_type": "code",
   "execution_count": 86,
   "metadata": {},
   "outputs": [],
   "source": [
    "# Delete large value columns\n",
    "large_columns = ['SRC_TO_DST_SECOND_BYTES', 'DST_TO_SRC_SECOND_BYTES']\n",
    "data[large_columns] = np.log2(data[large_columns] + 1)"
   ]
  },
  {
   "cell_type": "code",
   "execution_count": 87,
   "metadata": {},
   "outputs": [],
   "source": [
    "#Excluding label column\n",
    "X, y = data.drop(columns=['Attack', 'Label']), data['Attack']"
   ]
  },
  {
   "cell_type": "code",
   "execution_count": 88,
   "metadata": {},
   "outputs": [],
   "source": [
    "data = []"
   ]
  },
  {
   "cell_type": "code",
   "execution_count": 89,
   "metadata": {},
   "outputs": [],
   "source": [
    "# Convert IP addresses into separate columns\n",
    "ip_attrs = ['IPV4_SRC_ADDR', 'IPV4_DST_ADDR']\n",
    "for i, attr in enumerate(ip_attrs):\n",
    "    mapper = {j: f'{i}{j}' for j in range(4)}\n",
    "    X = pd.concat([X, X[attr].str.split('.', expand=True).rename(columns=mapper).astype(int)], axis=1)"
   ]
  },
  {
   "cell_type": "code",
   "execution_count": 90,
   "metadata": {},
   "outputs": [],
   "source": [
    "# Drop IP columns\n",
    "X = X.drop(columns=ip_attrs)"
   ]
  },
  {
   "cell_type": "code",
   "execution_count": 91,
   "metadata": {},
   "outputs": [],
   "source": [
    "#Categorizing columns\n",
    "numeric_attrs = X.columns"
   ]
  },
  {
   "cell_type": "code",
   "execution_count": 92,
   "metadata": {},
   "outputs": [],
   "source": [
    "# Preprocessing pipelines\n",
    "num_transformer = Pipeline(steps=[('scaler', StandardScaler())])"
   ]
  },
  {
   "cell_type": "code",
   "execution_count": 93,
   "metadata": {},
   "outputs": [],
   "source": [
    "# Column transformer\n",
    "preprocessor = ColumnTransformer(\n",
    "    transformers=[\n",
    "        ('num', num_transformer, numeric_attrs),\n",
    "    ]\n",
    ")"
   ]
  },
  {
   "cell_type": "code",
   "execution_count": 94,
   "metadata": {},
   "outputs": [],
   "source": [
    "# Complete pipeline with SMOTE\n",
    "clf_pipeline = imbPipeline(steps=[\n",
    "    ('preprocess', preprocessor),\n",
    "    ('smote', SMOTE(random_state=42)),\n",
    "    ('classifier', LogisticRegression(max_iter=500))\n",
    "])"
   ]
  },
  {
   "cell_type": "code",
   "execution_count": 95,
   "metadata": {},
   "outputs": [],
   "source": [
    "# Creating train and test sets\n",
    "X_train, X_, y_train, y_ = train_test_split(X, y, test_size=0.2, random_state=42, stratify=y)\n",
    "X_test, X_validation, y_test, y_validation = train_test_split(X_, y_, test_size=0.5, random_state=42, stratify=y_)"
   ]
  },
  {
   "cell_type": "code",
   "execution_count": 96,
   "metadata": {},
   "outputs": [],
   "source": [
    "X_ = []\n",
    "y_ = []"
   ]
  },
  {
   "cell_type": "code",
   "execution_count": 97,
   "metadata": {},
   "outputs": [],
   "source": [
    "# Convert labels to numbers\n",
    "le = LabelEncoder()\n",
    "y = le.fit_transform(y)\n",
    "y_train = le.transform(y_train)\n",
    "y_validation = le.transform(y_validation)"
   ]
  },
  {
   "cell_type": "code",
   "execution_count": 98,
   "metadata": {},
   "outputs": [],
   "source": [
    "# # Hyperparameter tuning\n",
    "# param_grid = {\n",
    "#     'classifier__n_estimators': [100, 200],\n",
    "#     'classifier__max_depth': [None, 10, 20],\n",
    "#     'classifier__min_samples_split': [2, 5],\n",
    "#     'classifier__min_samples_leaf': [1, 2]\n",
    "# }\n",
    "# grid_search = GridSearchCV(clf_pipeline, param_grid, cv=3, n_jobs=-1)\n",
    "# grid_search.fit(X_train, y_train)"
   ]
  },
  {
   "cell_type": "code",
   "execution_count": 99,
   "metadata": {},
   "outputs": [
    {
     "data": {
      "text/plain": [
       "'              precision    recall  f1-score   support\\n\\n           0       1.00      1.00      1.00         5\\n           1       0.12      0.88      0.21       747\\n           2       0.59      1.00      0.74        24\\n           3       1.00      0.88      0.94     41612\\n           4       0.98      1.00      0.99       303\\n           5       0.99      1.00      1.00      4544\\n\\n    accuracy                           0.90     47235\\n   macro avg       0.78      0.96      0.81     47235\\nweighted avg       0.98      0.90      0.93     47235\\n'"
      ]
     },
     "execution_count": 99,
     "metadata": {},
     "output_type": "execute_result"
    }
   ],
   "source": [
    "# Evaluate best model\n",
    "# best_clf = grid_search.best_estimator_\n",
    "clf_pipeline.fit(X_train, y_train)\n",
    "y_pred = clf_pipeline.predict(X_validation)\n",
    "classification_report(y_validation, y_pred)"
   ]
  },
  {
   "cell_type": "code",
   "execution_count": 100,
   "metadata": {},
   "outputs": [],
   "source": [
    "X_validation = []\n",
    "y_pred = []\n",
    "y_validation = []"
   ]
  },
  {
   "cell_type": "code",
   "execution_count": 101,
   "metadata": {},
   "outputs": [],
   "source": [
    "# Calculate scores via cross-validation\n",
    "scores = cross_val_score(clf_pipeline, X, y, cv=5, scoring='recall_macro', n_jobs=-1)\n",
    "print(f'Cross-Validation Recall Scores: {scores}')\n",
    "print(f'Mean Recall: {scores.mean()}')"
   ]
  },
  {
   "cell_type": "code",
   "execution_count": 102,
   "metadata": {},
   "outputs": [],
   "source": [
    "X = []\n",
    "y = []"
   ]
  },
  {
   "cell_type": "code",
   "execution_count": 103,
   "metadata": {},
   "outputs": [],
   "source": [
    "# Calculate probabilities\n",
    "probabilities = clf_pipeline.predict_proba(X_test)\n",
    "row_index = np.arange(len(probabilities))\n",
    "probs = probabilities[row_index, le.transform(y_test)]"
   ]
  },
  {
   "cell_type": "code",
   "execution_count": 104,
   "metadata": {},
   "outputs": [],
   "source": [
    "probabilities = []\n",
    "X_test = []"
   ]
  },
  {
   "cell_type": "code",
   "execution_count": 105,
   "metadata": {},
   "outputs": [],
   "source": [
    "# Group probabilties\n",
    "bins = [0, 10, 40, 60, 90, 100]\n",
    "labels = ['Very Low', 'Low', 'Medium', 'High', 'Very High']\n",
    "grouped_probs = pd.cut(probs * 100, bins=bins, labels=labels)"
   ]
  },
  {
   "cell_type": "code",
   "execution_count": 135,
   "metadata": {},
   "outputs": [],
   "source": [
    "# Create Attack-Damage DataFrame\n",
    "df = pd.concat([y_test.reset_index(drop=True), pd.Series(grouped_probs)], axis='columns')\n",
    "df = df.rename(columns={0: 'Likelihood', 'Attack': 'Damage'})\n",
    "df = pd.concat([df, pd.Series(np.ones(len(df)))], axis=1)"
   ]
  },
  {
   "cell_type": "code",
   "execution_count": 152,
   "metadata": {},
   "outputs": [
    {
     "name": "stderr",
     "output_type": "stream",
     "text": [
      "/var/folders/6n/6wjhkwk15sd82tg__mh1_78m0000gn/T/ipykernel_4954/1040045075.py:2: FutureWarning: The default value of observed=False is deprecated and will change to observed=True in a future version of pandas. Specify observed=False to silence this warning and retain the current behavior\n",
      "  risk_df = df.pivot_table(index='Damage', columns='Likelihood', values=0, aggfunc='sum')\n"
     ]
    }
   ],
   "source": [
    "# Create risk Dataframe\n",
    "risk_df = df.pivot_table(index='Damage', columns='Likelihood', values=0, aggfunc='sum')\n",
    "index_order = ['low', 'moderate', 'high', 'severe', 'critical']\n",
    "column_order = ['Very Low', 'Low', 'Medium', 'High', 'Very High']\n",
    "risk_df = risk_df.reindex(columns=column_order, index=index_order)\n",
    "num_risk_df = pd.DataFrame(np.array([[j for j in range(i, i + 5)] for i in range(1, 6)]), columns=column_order, index=index_order)"
   ]
  },
  {
   "cell_type": "code",
   "execution_count": 170,
   "metadata": {},
   "outputs": [
    {
     "data": {
      "image/png": "[encoded data removed]",
      "text/plain": [
       "<Figure size 640x480 with 1 Axes>"
      ]
     },
     "metadata": {},
     "output_type": "display_data"
    }
   ],
   "source": [
    "# Plot risk matrix\n",
    "ax = sns.heatmap(num_risk_df, annot=risk_df, cmap='RdYlGn_r', cbar=False, fmt='')\n",
    "ax.xaxis.tick_top()\n",
    "ax.set_xlabel('Likelihood')\n",
    "ax.set_ylabel('Damage')\n",
    "plt.title('Risk Matrix')\n",
    "plt.show()"
   ]
  },
  {
   "cell_type": "code",
   "execution_count": null,
   "metadata": {},
   "outputs": [],
   "source": []
  }
 ],
 "metadata": {
  "kernelspec": {
   "display_name": "Python 3 (ipykernel)",
   "language": "python",
   "name": "python3"
  },
  "language_info": {
   "codemirror_mode": {
    "name": "ipython",
    "version": 3
   },
   "file_extension": ".py",
   "mimetype": "text/x-python",
   "name": "python",
   "nbconvert_exporter": "python",
   "pygments_lexer": "ipython3",
   "version": "3.12.4"
  }
 },
 "nbformat": 4,
 "nbformat_minor": 4
}
